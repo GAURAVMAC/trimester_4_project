{
 "cells": [
  {
   "cell_type": "code",
   "execution_count": 1,
   "metadata": {},
   "outputs": [],
   "source": [
    "import cv2\n",
    "import numpy as np\n",
    "from tensorflow.keras.models import Model, load_model\n",
    "from PIL import Image\n",
    "import random\n",
    "import time"
   ]
  },
  {
   "cell_type": "code",
   "execution_count": 2,
   "metadata": {},
   "outputs": [],
   "source": [
    "model = load_model(\"project.h5\")"
   ]
  },
  {
   "cell_type": "code",
   "execution_count": 3,
   "metadata": {},
   "outputs": [],
   "source": [
    "def winner(user_score,system_score):\n",
    "    if user_score>system_score:\n",
    "        return(\"User Won\")\n",
    "    elif user_score==system_score:\n",
    "        return( \"Tie\")\n",
    "    else:\n",
    "        return(\"System Won\")\n",
    "    #pass"
   ]
  },
  {
   "cell_type": "code",
   "execution_count": 4,
   "metadata": {
    "scrolled": true,
    "tags": []
   },
   "outputs": [
    {
     "output_type": "stream",
     "name": "stdout",
     "text": "Adding new score [6]\n[6]\nShow Different Number\nShow Different Number\nAdding new score [6, 2]\n[6, 2]\nSame score\n******OUT********\nSystem Won\n"
    }
   ],
   "source": [
    "# This list will be used to map probabilities to class names, Label names are in alphabatical order.\n",
    "label_names = [0,1,2,3,4,5,6]\n",
    "over=[]\n",
    "attempts = 2\n",
    "total_attempts=attempts\n",
    "user_score=0\n",
    "system_score=0\n",
    "result=\"\"\n",
    "cap = cv2.VideoCapture(0)\n",
    "prob_thrsh=0.7\n",
    "flag=0\n",
    "while True:\n",
    "    _, frame = cap.read()\n",
    "    # mirror image\n",
    "    frame = cv2.flip(frame, 1)\n",
    "           \n",
    "    # Coordinates of the ROI\n",
    "    x1 = int(0.5*frame.shape[1])\n",
    "    y1 = 10\n",
    "    x2 = frame.shape[1]-10\n",
    "    y2 = int(0.5*frame.shape[1])\n",
    "    #print(frame.shape)\n",
    "   \n",
    "    # Drawing the ROI\n",
    "    cv2.rectangle(frame, (x1-1, y1-1), (x2+1, y2+1), (255,0,0) ,1)\n",
    "    \n",
    "    # Extracting the ROI\n",
    "    roi = frame[y1:y2, x1:x2]\n",
    "    #roi = cv2.resize(roi, (768,768))\n",
    "    roi=cv2.resize(roi,(128,128))\n",
    "    # Normalize the image like we did in the preprocessing step, also convert float64 array.\n",
    "    roi = np.array([roi]).astype('float64') / 255.0\n",
    "    #roi = cv2.resize(roi,(128,128),Image.ANTIALIAS)\n",
    "    test=[]\n",
    "    test.append(roi)\n",
    "    # Get model's prediction.\n",
    "    pred = model.predict(test)\n",
    "    \n",
    "    # Get the index of the target class.\n",
    "    target_index = np.argmax(pred[0])\n",
    "\n",
    "    # Get the probability of the target class\n",
    "    prob = np.max(pred[0])\n",
    "    cv2.putText(frame, \"prediction: {} {:.2f}%\".format(label_names[np.argmax(pred[0])], prob*100 ),\n",
    "                (10, 40), cv2.FONT_HERSHEY_SIMPLEX, 0.90, (0, 0, 255), 2, cv2.LINE_AA)\n",
    "    \n",
    "    if prob>prob_thrsh:\n",
    "        time.sleep(2)\n",
    "        system=random.choice([1,2,3,4,5,6])\n",
    "        user=label_names[np.argmax(pred[0])]\n",
    "        if user in over:\n",
    "            print(\"Show Different Number\")\n",
    "            cv2.putText(frame, \"Show Different Number\",\n",
    "                (10, 120), cv2.FONT_HERSHEY_SIMPLEX, 0.90, (0, 0, 255), 2, cv2.LINE_AA)\n",
    "            continue\n",
    "        else:\n",
    "            over.append(user)\n",
    "            print(\"Adding new score\",over)\n",
    "        print(over)\n",
    "\n",
    "        user_score=user_score+user\n",
    "        system_score=system_score+system\n",
    "        total_attempts -= 1\n",
    "        #time.sleep(2)\n",
    "        if system==user:\n",
    "            print(\"Same score\")\n",
    "            flag=1\n",
    "            cv2.putText(frame, \"Same score, OUT\",\n",
    "                    (10, 120), cv2.FONT_HERSHEY_SIMPLEX, 0.90, (0, 0, 255), 2, cv2.LINE_AA)\n",
    "            break\n",
    "    cv2.putText(frame, \"Your Score: {}  System score: {}\".format(user, system),\n",
    "                (10, 80), cv2.FONT_HERSHEY_SIMPLEX, 0.90, (0, 0, 255), 2, cv2.LINE_AA)    \n",
    "    cv2.putText(frame, \"Your total score: {} System total score: {}\".format(user_score,system_score),\n",
    "                (10, 360), cv2.FONT_HERSHEY_SIMPLEX, 0.90, (0, 0, 255), 2, cv2.LINE_AA)\n",
    "    cv2.putText(frame, \"Attempt left:{}\".format(total_attempts),\n",
    "                (10, 330), cv2.FONT_HERSHEY_SIMPLEX, 0.90, (0, 0, 255), 2, cv2.LINE_AA)\n",
    "    if total_attempts == 0:\n",
    "        #result=winner(user_score,system_score)\n",
    "        break\n",
    "    cv2.imshow(\"Game\", frame)\n",
    "   \n",
    "    k = cv2.waitKey(1)\n",
    "    if k == ord('q'):\n",
    "        break\n",
    "if flag==0:\n",
    "    result=winner(user_score,system_score)\n",
    "    print(\"System score: {} user Score: {}\".format(system_score,user_score))\n",
    "    print(\"Result:\",result,\"With\",(abs(user_score-system_score)),\"Runs\")\n",
    "else:\n",
    "    print(\"******OUT********\")\n",
    "    print(\"System Won\")\n",
    "cap.release()\n",
    "cv2.destroyAllWindows()"
   ]
  },
  {
   "cell_type": "code",
   "execution_count": null,
   "metadata": {},
   "outputs": [],
   "source": []
  }
 ],
 "metadata": {
  "kernelspec": {
   "display_name": "Python 3",
   "language": "python",
   "name": "python3"
  },
  "language_info": {
   "codemirror_mode": {
    "name": "ipython",
    "version": 3
   },
   "file_extension": ".py",
   "mimetype": "text/x-python",
   "name": "python",
   "nbconvert_exporter": "python",
   "pygments_lexer": "ipython3",
   "version": "3.8.5-final"
  }
 },
 "nbformat": 4,
 "nbformat_minor": 2
}